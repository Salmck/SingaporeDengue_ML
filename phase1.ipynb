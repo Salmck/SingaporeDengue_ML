{
 "cells": [
  {
   "cell_type": "code",
   "execution_count": 100,
   "metadata": {
    "collapsed": true
   },
   "outputs": [],
   "source": [
    "from sklearn.svm import SVR\n",
    "import pandas as pd\n",
    "import numpy as np\n",
    "from sklearn.metrics import r2_score\n",
    "from sklearn.naive_bayes import GaussianNB\n",
    "from sklearn.ensemble import RandomForestClassifier\n",
    "from sklearn import svm\n",
    "from sklearn import cross_validation\n",
    "from sklearn import svm\n",
    "from sklearn.metrics import precision_score\n",
    "from sklearn.metrics import recall_score\n",
    "import numpy as np\n",
    "%matplotlib inline\n",
    "import pandas as pd\n",
    "import pylab \n",
    "import math\n",
    "import matplotlib.pyplot as plt\n",
    "import seaborn as sns\n",
    "from pylab import rcParams\n",
    "rcParams['figure.figsize'] = 8, 6"
   ]
  },
  {
   "cell_type": "code",
   "execution_count": 92,
   "metadata": {
    "collapsed": true
   },
   "outputs": [],
   "source": [
    "data = pd.read_csv('phase1.csv')"
   ]
  },
  {
   "cell_type": "code",
   "execution_count": 93,
   "metadata": {
    "collapsed": false
   },
   "outputs": [
    {
     "data": {
      "text/html": [
       "<div>\n",
       "<table border=\"1\" class=\"dataframe\">\n",
       "  <thead>\n",
       "    <tr style=\"text-align: right;\">\n",
       "      <th></th>\n",
       "      <th>Unnamed: 0</th>\n",
       "      <th>epi_week</th>\n",
       "      <th>Cases</th>\n",
       "      <th>Year</th>\n",
       "      <th>Date_T</th>\n",
       "      <th>Mean_Rainfall</th>\n",
       "      <th>Mean_Temperature</th>\n",
       "      <th>Mean_Wind_Speed</th>\n",
       "      <th>Cases_Bin</th>\n",
       "      <th>Mean_Temperature_Bin</th>\n",
       "      <th>Mean_Wind_Speed_Bin</th>\n",
       "      <th>Mean_Rainfall_Bin</th>\n",
       "    </tr>\n",
       "  </thead>\n",
       "  <tbody>\n",
       "    <tr>\n",
       "      <th>0</th>\n",
       "      <td>0</td>\n",
       "      <td>2012-W01</td>\n",
       "      <td>74</td>\n",
       "      <td>2012</td>\n",
       "      <td>1</td>\n",
       "      <td>13.350000</td>\n",
       "      <td>26.762500</td>\n",
       "      <td>11.487500</td>\n",
       "      <td>0</td>\n",
       "      <td>0</td>\n",
       "      <td>4</td>\n",
       "      <td>4</td>\n",
       "    </tr>\n",
       "    <tr>\n",
       "      <th>1</th>\n",
       "      <td>1</td>\n",
       "      <td>2012-W02</td>\n",
       "      <td>66</td>\n",
       "      <td>2012</td>\n",
       "      <td>2</td>\n",
       "      <td>3.685714</td>\n",
       "      <td>26.228571</td>\n",
       "      <td>7.814286</td>\n",
       "      <td>0</td>\n",
       "      <td>0</td>\n",
       "      <td>2</td>\n",
       "      <td>2</td>\n",
       "    </tr>\n",
       "    <tr>\n",
       "      <th>2</th>\n",
       "      <td>2</td>\n",
       "      <td>2012-W03</td>\n",
       "      <td>61</td>\n",
       "      <td>2012</td>\n",
       "      <td>3</td>\n",
       "      <td>4.000000</td>\n",
       "      <td>26.914286</td>\n",
       "      <td>7.357143</td>\n",
       "      <td>0</td>\n",
       "      <td>0</td>\n",
       "      <td>1</td>\n",
       "      <td>2</td>\n",
       "    </tr>\n",
       "    <tr>\n",
       "      <th>3</th>\n",
       "      <td>3</td>\n",
       "      <td>2012-W04</td>\n",
       "      <td>52</td>\n",
       "      <td>2012</td>\n",
       "      <td>4</td>\n",
       "      <td>1.228571</td>\n",
       "      <td>26.600000</td>\n",
       "      <td>8.585714</td>\n",
       "      <td>0</td>\n",
       "      <td>0</td>\n",
       "      <td>2</td>\n",
       "      <td>1</td>\n",
       "    </tr>\n",
       "    <tr>\n",
       "      <th>4</th>\n",
       "      <td>4</td>\n",
       "      <td>2012-W05</td>\n",
       "      <td>85</td>\n",
       "      <td>2012</td>\n",
       "      <td>5</td>\n",
       "      <td>7.957143</td>\n",
       "      <td>26.485714</td>\n",
       "      <td>10.542857</td>\n",
       "      <td>0</td>\n",
       "      <td>0</td>\n",
       "      <td>3</td>\n",
       "      <td>3</td>\n",
       "    </tr>\n",
       "  </tbody>\n",
       "</table>\n",
       "</div>"
      ],
      "text/plain": [
       "   Unnamed: 0  epi_week  Cases  Year  Date_T  Mean_Rainfall  Mean_Temperature  \\\n",
       "0           0  2012-W01     74  2012       1      13.350000         26.762500   \n",
       "1           1  2012-W02     66  2012       2       3.685714         26.228571   \n",
       "2           2  2012-W03     61  2012       3       4.000000         26.914286   \n",
       "3           3  2012-W04     52  2012       4       1.228571         26.600000   \n",
       "4           4  2012-W05     85  2012       5       7.957143         26.485714   \n",
       "\n",
       "   Mean_Wind_Speed  Cases_Bin  Mean_Temperature_Bin  Mean_Wind_Speed_Bin  \\\n",
       "0        11.487500          0                     0                    4   \n",
       "1         7.814286          0                     0                    2   \n",
       "2         7.357143          0                     0                    1   \n",
       "3         8.585714          0                     0                    2   \n",
       "4        10.542857          0                     0                    3   \n",
       "\n",
       "   Mean_Rainfall_Bin  \n",
       "0                  4  \n",
       "1                  2  \n",
       "2                  2  \n",
       "3                  1  \n",
       "4                  3  "
      ]
     },
     "execution_count": 93,
     "metadata": {},
     "output_type": "execute_result"
    }
   ],
   "source": [
    "data.head()"
   ]
  },
  {
   "cell_type": "code",
   "execution_count": 94,
   "metadata": {
    "collapsed": true
   },
   "outputs": [],
   "source": [
    "def shift(n, dataframe=False):\n",
    "    lag = data_clean.copy()\n",
    "    desired_columns = ['Mean_Rainfall','Mean_Temperature', 'Mean_Wind_Speed', 'Mean_Temperature_Bin', \n",
    "          'Mean_Wind_Speed_Bin', 'Mean_Rainfall_Bin']\n",
    "    for i in desired_columns:\n",
    "        lag[i] = lag[i].shift(n)\n",
    "    l = list(np.arange(0,n,1) )\n",
    "    for i in l:\n",
    "        lag.drop(i,axis=0,inplace=True)\n",
    "    if dataframe:\n",
    "        return lag\n",
    "    else:\n",
    "        X = np.asarray(lag[['Mean_Rainfall_Bin',\n",
    "                            'Mean_Temperature_Bin','Mean_Wind_Speed_Bin']])\n",
    "        Y = np.asarray(lag.Cases_Bin)\n",
    "        return X,Y"
   ]
  },
  {
   "cell_type": "code",
   "execution_count": 95,
   "metadata": {
    "collapsed": true
   },
   "outputs": [],
   "source": [
    "# X = data[['Mean_Rainfall','Mean_Temperature', 'Mean_Wind_Speed']]\n",
    "X = data[['Mean_Temperature_Bin', 'Mean_Wind_Speed_Bin', 'Mean_Rainfall_Bin']] "
   ]
  },
  {
   "cell_type": "code",
   "execution_count": 96,
   "metadata": {
    "collapsed": false
   },
   "outputs": [
    {
     "data": {
      "text/plain": [
       "217"
      ]
     },
     "execution_count": 96,
     "metadata": {},
     "output_type": "execute_result"
    }
   ],
   "source": [
    "len(data['Cases_Bin'])"
   ]
  },
  {
   "cell_type": "code",
   "execution_count": 97,
   "metadata": {
    "collapsed": false
   },
   "outputs": [],
   "source": [
    "Y = data['Cases_Bin']"
   ]
  },
  {
   "cell_type": "code",
   "execution_count": 98,
   "metadata": {
    "collapsed": false
   },
   "outputs": [],
   "source": [
    "X_train, X_test, y_train, y_test = train_test_split(\n",
    "    X, Y, test_size=0.25, random_state=1\n",
    ")"
   ]
  },
  {
   "cell_type": "code",
   "execution_count": 101,
   "metadata": {
    "collapsed": false
   },
   "outputs": [
    {
     "name": "stderr",
     "output_type": "stream",
     "text": [
      "[Parallel(n_jobs=4)]: Done  20 out of  20 | elapsed:    0.0s finished\n",
      "[Parallel(n_jobs=4)]: Done  20 out of  20 | elapsed:    0.0s finished\n"
     ]
    },
    {
     "name": "stdout",
     "output_type": "stream",
     "text": [
      "building tree 1 of 20\n",
      "building tree 2 of 20\n",
      "building tree 3 of 20\n",
      "building tree 4 of 20\n",
      "building tree 5 of 20\n",
      "building tree 6 of 20\n",
      "building tree 7 of 20\n",
      "building tree 8 of 20\n",
      "building tree 9 of 20\n",
      "building tree 10 of 20\n",
      "building tree 11 of 20\n",
      "building tree 12 of 20\n",
      "building tree 13 of 20\n",
      "building tree 14 of 20\n",
      "building tree 15 of 20\n",
      "building tree 16 of 20\n",
      "building tree 17 of 20\n",
      "building tree 18 of 20\n",
      "building tree 19 of 20\n",
      "building tree 20 of 20\n",
      "-------------------------------------------------------------------------\n",
      "RandomForestClassifier with 100 trees Out of sample accuracy 12.0%\n",
      "Classification IN of sample accuracy 69.0%\n",
      "Percision 0.7%\n",
      "reccal 0.7%\n"
     ]
    },
    {
     "name": "stderr",
     "output_type": "stream",
     "text": [
      "[Parallel(n_jobs=4)]: Done  20 out of  20 | elapsed:    0.0s finished\n"
     ]
    }
   ],
   "source": [
    "num_trees = 20\n",
    "rf = RandomForestClassifier(n_estimators=num_trees, n_jobs=4, min_samples_split=2, verbose=2, oob_score = True)\n",
    "\n",
    "rf.fit(X=X_train, y=y_train);\n",
    "y_pred_test = rf.predict(X_test)\n",
    "\n",
    "print(\"-------------------------------------------------------------------------\")\n",
    "print(\"RandomForestClassifier with 100 trees Out of sample accuracy %2.1f%%\" \\\n",
    "                       % (100*((y_test == y_pred_test).sum())/y_pred_test.shape[0]))\n",
    "\n",
    "y_pred = rf.predict(X_train)\n",
    "print(\"Classification IN of sample accuracy %2.1f%%\" \\\n",
    "                       % (100*((y_train == y_pred).sum())/y_pred.shape[0]))\n",
    "\n",
    "print(\"Percision %2.1f%%\" \\\n",
    "                       % (precision_score(y_train, y_pred, average='macro'))) \n",
    "\n",
    "print(\"reccal %2.1f%%\" \\\n",
    "                       % (recall_score(y_train, y_pred, average='macro'))) \n"
   ]
  },
  {
   "cell_type": "code",
   "execution_count": 102,
   "metadata": {
    "collapsed": false
   },
   "outputs": [
    {
     "name": "stdout",
     "output_type": "stream",
     "text": [
      "Mean accuracy score 29.0%\n"
     ]
    }
   ],
   "source": [
    "# Polynomial Kernel\n",
    "clf = svm.SVC(kernel='poly', degree=2, C=3) \n",
    "scores = cross_validation.cross_val_score(\n",
    "    clf, X, Y, cv=10)\n",
    "print('Mean accuracy score %2.1f%%' % (100*scores.mean()))"
   ]
  },
  {
   "cell_type": "code",
   "execution_count": 103,
   "metadata": {
    "collapsed": false
   },
   "outputs": [
    {
     "name": "stdout",
     "output_type": "stream",
     "text": [
      "-------------------------------------------------------------------------\n",
      "SVM with soft margin 2-> Out of sample accuracy 16.0%\n",
      "Classification IN of sample accuracy 35.0%\n",
      "Percision 0.3%\n",
      "reccal 0.3%\n",
      "-------------------------------------------------------------------------\n",
      "SVM with 2 degree Polynomial Kernel Out of sample accuracy 23.0%\n",
      " Classification IN of sample accuracy 39.0%\n",
      "Percision 0.4%\n",
      "reccal 0.4%\n",
      "-------------------------------------------------------------------------\n",
      "SVM with Gaussian Kernel Out of sample accuracy 18.0%\n",
      "reccal 0.4%\n",
      "Classification IN of sample accuracy 50.0%\n",
      "Percision 0.5%\n",
      "reccal 0.5%\n"
     ]
    }
   ],
   "source": [
    "\n",
    "    \n",
    "# Soft margin\n",
    "clf = svm.SVC(kernel='linear',C=2) \n",
    "y_pred_test = clf.fit(X_train, y_train).predict(X_test)\n",
    "print(\"-------------------------------------------------------------------------\")\n",
    "print(\"SVM with soft margin 2-> Out of sample accuracy %2.1f%%\" \\\n",
    "                       % (100*((y_test == y_pred_test).sum())/y_pred_test.shape[0]))\n",
    "\n",
    "y_pred = clf.predict(X_train)\n",
    "print(\"Classification IN of sample accuracy %2.1f%%\" \\\n",
    "                       % (100*((y_train == y_pred).sum())/y_pred.shape[0]))\n",
    "\n",
    "print(\"Percision %2.1f%%\" \\\n",
    "                       % (precision_score(y_train, y_pred, average='macro'))) \n",
    "\n",
    "print(\"reccal %2.1f%%\" \\\n",
    "                       % (recall_score(y_train, y_pred, average='macro'))) \n",
    "\n",
    "\n",
    "# Polynomial Kernel\n",
    "clf = svm.SVC(kernel='poly', degree=2, C=3) \n",
    "y_pred_test = clf.fit(X_train, y_train).predict(X_test)\n",
    "print(\"-------------------------------------------------------------------------\")\n",
    "print(\"SVM with 2 degree Polynomial Kernel Out of sample accuracy %2.1f%%\" \\\n",
    "                       % (100*((y_test == y_pred_test).sum())/y_pred_test.shape[0]))\n",
    "\n",
    "y_pred = clf.predict(X_train)\n",
    "print(\" Classification IN of sample accuracy %2.1f%%\" \\\n",
    "                       % (100*((y_train == y_pred).sum())/y_pred.shape[0]))\n",
    "print(\"Percision %2.1f%%\" \\\n",
    "                       % (precision_score(y_train, y_pred, average='macro'))) \n",
    "\n",
    "print(\"reccal %2.1f%%\" \\\n",
    "                       % (recall_score(y_train, y_pred, average='macro'))) \n",
    "\n",
    "# Gaussian Kernel\n",
    "clf =  svm.SVC(kernel='rbf', gamma=0.25, C=1) \n",
    "y_pred_test = clf.fit(X_train, y_train).predict(X_test)\n",
    "print(\"-------------------------------------------------------------------------\")\n",
    "print(\"SVM with Gaussian Kernel Out of sample accuracy %2.1f%%\" \\\n",
    "                       % (100*((y_test == y_pred_test).sum())/y_pred_test.shape[0]))\n",
    "\n",
    "print(\"reccal %2.1f%%\" \\\n",
    "                       % (recall_score(y_train, y_pred, average='macro'))) \n",
    "\n",
    "\n",
    "y_pred = clf.predict(X_train)\n",
    "print(\"Classification IN of sample accuracy %2.1f%%\" \\\n",
    "                       % (100*((y_train == y_pred).sum())/y_pred.shape[0]))\n",
    "print(\"Percision %2.1f%%\" \\\n",
    "                       % (precision_score(y_train, y_pred, average='macro'))) \n",
    "\n",
    "print(\"reccal %2.1f%%\" \\\n",
    "                       % (recall_score(y_train, y_pred, average='macro'))) \n"
   ]
  },
  {
   "cell_type": "code",
   "execution_count": 104,
   "metadata": {
    "collapsed": false
   },
   "outputs": [
    {
     "name": "stdout",
     "output_type": "stream",
     "text": [
      "Naive Bayes Classification Out of sample accuracy 20.0%\n",
      "Naive Bayes Classification IN of sample accuracy 35.0%\n",
      "Percision 0.3%\n",
      "reccal 0.4%\n"
     ]
    }
   ],
   "source": [
    "gnb = GaussianNB()\n",
    "y_pred_test = gnb.fit(X_train, y_train).predict(X_test)\n",
    "print(\"Naive Bayes Classification Out of sample accuracy %2.1f%%\" \\\n",
    "                       % (100*((y_test == y_pred_test).sum())/y_pred_test.shape[0]))\n",
    "\n",
    "y_pred = gnb.predict(X_train)\n",
    "print(\"Naive Bayes Classification IN of sample accuracy %2.1f%%\" \\\n",
    "                       % (100*((y_train == y_pred).sum())/y_pred.shape[0]))\n",
    "print(\"Percision %2.1f%%\" \\\n",
    "                       % (precision_score(y_train, y_pred, average='macro'))) \n",
    "\n",
    "print(\"reccal %2.1f%%\" \\\n",
    "                       % (recall_score(y_train, y_pred, average='macro'))) \n"
   ]
  },
  {
   "cell_type": "code",
   "execution_count": null,
   "metadata": {
    "collapsed": true
   },
   "outputs": [],
   "source": []
  }
 ],
 "metadata": {
  "kernelspec": {
   "display_name": "Python 2",
   "language": "python",
   "name": "python2"
  },
  "language_info": {
   "codemirror_mode": {
    "name": "ipython",
    "version": 2
   },
   "file_extension": ".py",
   "mimetype": "text/x-python",
   "name": "python",
   "nbconvert_exporter": "python",
   "pygments_lexer": "ipython2",
   "version": "2.7.6"
  }
 },
 "nbformat": 4,
 "nbformat_minor": 0
}
